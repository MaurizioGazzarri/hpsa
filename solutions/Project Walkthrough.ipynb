{
 "cells": [
  {
   "cell_type": "markdown",
   "metadata": {
    "deletable": true,
    "editable": true
   },
   "source": [
    "# IMDB - Sentiment Analysis of movie reviews\n",
    "\n",
    "**Objective**: build a sentiment-analysis model of movie reviews predicting if a given review is negative or positive.\n",
    "\n",
    "**Dataset**: [https://www.kaggle.com/iarunava/imdb-movie-reviews-dataset](https://www.kaggle.com/iarunava/imdb-movie-reviews-dataset)\n",
    "\n",
    "---\n",
    "\n",
    "## Introduction\n",
    "\n",
    "In this notebook, we see how to perform sentiment analysis using the IMDB Movie Reviews Dataset. We will classify reviews into *positives* (label 1) and *negetives* (label 0). We will encode the data using tf to feed a Logistic Regression Model.\n",
    "\n",
    "\n",
    "This notebook follows the [Text Classification guide](https://developers.google.com/machine-learning/guides/text-classification/) from Google Machine Learning Guides."
   ]
  },
  {
   "cell_type": "markdown",
   "metadata": {
    "deletable": true,
    "editable": true
   },
   "source": [
    "---\n",
    "\n",
    "## Notebook Preface\n",
    "\n",
    "\n",
    "Let's start by loading PySpark and by building a SparkContext."
   ]
  },
  {
   "cell_type": "code",
   "execution_count": 1,
   "metadata": {
    "collapsed": true,
    "deletable": true,
    "editable": true,
    "scrolled": true
   },
   "outputs": [],
   "source": [
    "# import spark\n",
    "from pyspark import SparkContext\n",
    "# initialize a new Spark Context to use for the execution of the script\n",
    "sc = SparkContext(appName=\"MY-APP-NAME\", master=\"local[*]\")\n",
    "# prevent useless logging messages\n",
    "sc.setLogLevel(\"ERROR\")"
   ]
  },
  {
   "cell_type": "markdown",
   "metadata": {
    "deletable": true,
    "editable": true
   },
   "source": [
    "Load all other required modules."
   ]
  },
  {
   "cell_type": "code",
   "execution_count": 2,
   "metadata": {
    "collapsed": true,
    "deletable": true,
    "editable": true,
    "scrolled": true
   },
   "outputs": [],
   "source": [
    "%matplotlib inline"
   ]
  },
  {
   "cell_type": "code",
   "execution_count": 3,
   "metadata": {
    "collapsed": true,
    "deletable": true,
    "editable": true,
    "scrolled": true
   },
   "outputs": [],
   "source": [
    "import matplotlib.pyplot as plt\n",
    "import numpy as np\n",
    "import pandas as pd\n",
    "import re\n",
    "import seaborn as sns\n",
    "from pyspark.mllib.classification import LogisticRegressionWithLBFGS\n",
    "from pyspark.mllib.feature import HashingTF, StandardScaler\n",
    "from pyspark.mllib.feature import LabeledPoint"
   ]
  },
  {
   "cell_type": "markdown",
   "metadata": {
    "deletable": true,
    "editable": true
   },
   "source": [
    "Define all constants and variables that we will be used throughout the entire notebook."
   ]
  },
  {
   "cell_type": "code",
   "execution_count": 4,
   "metadata": {
    "collapsed": true,
    "deletable": true,
    "editable": true,
    "scrolled": true
   },
   "outputs": [],
   "source": [
    "DATASET_PATH = \"hdfs://masterbig-1.itc.unipi.it:54310/masterbig_data/aclImdb/\"\n",
    "DEVELOPMENT_ENABLED = \"MEDIUM\""
   ]
  },
  {
   "cell_type": "markdown",
   "metadata": {
    "deletable": true,
    "editable": true
   },
   "source": [
    "---\n",
    "\n",
    "## Step 1: Data Gathering\n",
    "\n",
    "Let's load the dataset. We just load a subset of the dataset during the development.\n",
    "\n",
    "**Note**: data are stored within HDFS."
   ]
  },
  {
   "cell_type": "code",
   "execution_count": 5,
   "metadata": {
    "collapsed": false,
    "deletable": true,
    "editable": true,
    "scrolled": true
   },
   "outputs": [],
   "source": [
    "if DEVELOPMENT_ENABLED == \"BIG\":\n",
    "    pos_filter, neg_filter = \"_10\", \"_1\"\n",
    "elif DEVELOPMENT_ENABLED == \"MEDIUM\":\n",
    "    pos_filter, neg_filter = \"1_10\", \"1_1\"\n",
    "elif DEVELOPMENT_ENABLED == \"SMALL\":\n",
    "    pos_filter, neg_filter = \"01_10\", \"01_1\"\n",
    "else:\n",
    "    assert DEVELOPMENT_ENABLED is False\n",
    "    pos_filter, neg_filter = \"\", \"\"\n",
    "\n",
    "train_path = \"{0}train/pos/*{1}.txt,{0}train/neg/*{2}.txt\".format(DATASET_PATH, pos_filter, neg_filter)\n",
    "test_path = \"{0}test/pos/*{1}.txt,{0}test/neg/*{2}.txt\".format(DATASET_PATH, pos_filter, neg_filter)\n",
    "\n",
    "train_raw_rdd = sc.wholeTextFiles(train_path, use_unicode=True)\n",
    "test_raw_rdd = sc.wholeTextFiles(test_path, use_unicode=True)"
   ]
  },
  {
   "cell_type": "markdown",
   "metadata": {
    "deletable": true,
    "editable": true
   },
   "source": [
    "Check the rdd content."
   ]
  },
  {
   "cell_type": "code",
   "execution_count": 6,
   "metadata": {
    "collapsed": false,
    "deletable": true,
    "editable": true,
    "scrolled": true
   },
   "outputs": [
    {
     "data": {
      "text/plain": [
       "[('hdfs://masterbig-1.itc.unipi.it:54310/masterbig_data/aclImdb/train/neg/8591_1.txt',\n",
       "  \"I'm trying to decide if jumping into a wood chopper would be more enjoyable than this dreck. It finishes the destruction of what was once a classic couple of films. With Jedi, Menace, Clowns and Sith we have the death of Lucas' career. He wants us to swallow the Annakin is Vader nonsense? I never believed it was true. This film vindicates those feelings. The story hasn't worked since Phantom Moron, and each new film just piled the crap on until all that was left was a toy parade. I have to go. I know where some new rocks to throw are. You want spoilers? Here they come. Luke and Leia are NOT related. Vader is NOT their Father. Duke Countoo should have switched sides while he still could. Yoda has less verbal skills than Yogi Berra. His advice has never been any good to anybody. Obi Wan lied to Luke for the first two films. Annakin didn't build C3P0. He found him in the desert and lied to his Mom about putting him together from scratch. Chewbacca has fleas. This whole mess with Vader and the fall of the Republic can be blamed on that stupid b***h Amma-Lamma-Ding-Dong. If she had any brains she wouldn't have come within a light year of Annie, but she had told do what George Lucas wrote for her. What a dope!\"),\n",
       " ('hdfs://masterbig-1.itc.unipi.it:54310/masterbig_data/aclImdb/train/pos/8521_10.txt',\n",
       "  \"I absolutely loved this show. I watched it from the time it first aired in the late 90's to the very last episode. In my honest opinion it was a wonderful family drama that is so rare these days. Definitely a show you could watch with a friend or your children. Yes things have changed a bit with Jo since we last saw her in the books, but it's still compelling with great stories and good lessons. The actress that portrays Jo Bhaer (Michelle Burke) does a wonderful job as does as the actor who plays Nick Riley (Spencer Rochfort) Throughout the series we get to see the developing romance between Jo and Nick as well as the daily stories and lessons the kids and students learn. I recommend this show to anyone.\")]"
      ]
     },
     "execution_count": 6,
     "metadata": {},
     "output_type": "execute_result"
    }
   ],
   "source": [
    "train_raw_rdd.takeSample(withReplacement=False, num=2, seed=9)"
   ]
  },
  {
   "cell_type": "markdown",
   "metadata": {
    "deletable": true,
    "editable": true
   },
   "source": [
    "Clean the text and retrieve the rating from the filename."
   ]
  },
  {
   "cell_type": "code",
   "execution_count": 7,
   "metadata": {
    "collapsed": false,
    "deletable": true,
    "editable": true,
    "scrolled": true
   },
   "outputs": [],
   "source": [
    "text_pattern = re.compile('[^a-z ]+')\n",
    "text_pattern2 = re.compile('[ ]+')\n",
    "def transform_filename_text_pair(pair):\n",
    "    filename, text = pair\n",
    "    rating = int(filename[filename.rfind(\"_\")+1:filename.rfind(\".\")])\n",
    "    cleaned_text = text_pattern2.sub(\n",
    "        ' ',\n",
    "        text_pattern.sub(\n",
    "            ' ',\n",
    "            text.lower()\n",
    "        )\n",
    "    )\n",
    "    return (rating, cleaned_text)\n",
    "\n",
    "train_clean_rdd = train_raw_rdd.map(transform_filename_text_pair)\n",
    "test_clean_rdd = test_raw_rdd.map(transform_filename_text_pair)"
   ]
  },
  {
   "cell_type": "markdown",
   "metadata": {
    "deletable": true,
    "editable": true
   },
   "source": [
    "Check the content of the cleaned rdd. "
   ]
  },
  {
   "cell_type": "code",
   "execution_count": 8,
   "metadata": {
    "collapsed": false,
    "deletable": true,
    "editable": true,
    "scrolled": true
   },
   "outputs": [
    {
     "data": {
      "text/plain": [
       "[(1,\n",
       "  'i m trying to decide if jumping into a wood chopper would be more enjoyable than this dreck it finishes the destruction of what was once a classic couple of films with jedi menace clowns and sith we have the death of lucas career he wants us to swallow the annakin is vader nonsense i never believed it was true this film vindicates those feelings the story hasn t worked since phantom moron and each new film just piled the crap on until all that was left was a toy parade i have to go i know where some new rocks to throw are you want spoilers here they come luke and leia are not related vader is not their father duke countoo should have switched sides while he still could yoda has less verbal skills than yogi berra his advice has never been any good to anybody obi wan lied to luke for the first two films annakin didn t build c p he found him in the desert and lied to his mom about putting him together from scratch chewbacca has fleas this whole mess with vader and the fall of the republic can be blamed on that stupid b h amma lamma ding dong if she had any brains she wouldn t have come within a light year of annie but she had told do what george lucas wrote for her what a dope '),\n",
       " (10,\n",
       "  'i absolutely loved this show i watched it from the time it first aired in the late s to the very last episode in my honest opinion it was a wonderful family drama that is so rare these days definitely a show you could watch with a friend or your children yes things have changed a bit with jo since we last saw her in the books but it s still compelling with great stories and good lessons the actress that portrays jo bhaer michelle burke does a wonderful job as does as the actor who plays nick riley spencer rochfort throughout the series we get to see the developing romance between jo and nick as well as the daily stories and lessons the kids and students learn i recommend this show to anyone ')]"
      ]
     },
     "execution_count": 8,
     "metadata": {},
     "output_type": "execute_result"
    }
   ],
   "source": [
    "train_clean_rdd.takeSample(withReplacement=False, num=2, seed=9)"
   ]
  },
  {
   "cell_type": "markdown",
   "metadata": {
    "deletable": true,
    "editable": true
   },
   "source": [
    "---\n",
    "\n",
    "## Step 2: Data Exploration\n",
    "\n",
    "Verify the number of examples and the number of samples in each class."
   ]
  },
  {
   "cell_type": "code",
   "execution_count": 9,
   "metadata": {
    "collapsed": false,
    "deletable": true,
    "editable": true,
    "scrolled": true
   },
   "outputs": [
    {
     "data": {
      "text/html": [
       "<div>\n",
       "<style scoped>\n",
       "    .dataframe tbody tr th:only-of-type {\n",
       "        vertical-align: middle;\n",
       "    }\n",
       "\n",
       "    .dataframe tbody tr th {\n",
       "        vertical-align: top;\n",
       "    }\n",
       "\n",
       "    .dataframe thead th {\n",
       "        text-align: right;\n",
       "    }\n",
       "</style>\n",
       "<table border=\"1\" class=\"dataframe\">\n",
       "  <thead>\n",
       "    <tr style=\"text-align: right;\">\n",
       "      <th></th>\n",
       "      <th>num examples</th>\n",
       "    </tr>\n",
       "  </thead>\n",
       "  <tbody>\n",
       "    <tr>\n",
       "      <th>train</th>\n",
       "      <td>981</td>\n",
       "    </tr>\n",
       "    <tr>\n",
       "      <th>test</th>\n",
       "      <td>1000</td>\n",
       "    </tr>\n",
       "  </tbody>\n",
       "</table>\n",
       "</div>"
      ],
      "text/plain": [
       "       num examples\n",
       "train           981\n",
       "test           1000"
      ]
     },
     "execution_count": 9,
     "metadata": {},
     "output_type": "execute_result"
    }
   ],
   "source": [
    "pd.DataFrame(\n",
    "    data=[train_raw_rdd.count(), test_raw_rdd.count()],\n",
    "    index=[\"train\", \"test\"],\n",
    "    columns=[\"num examples\"]\n",
    ")"
   ]
  },
  {
   "cell_type": "code",
   "execution_count": 10,
   "metadata": {
    "collapsed": false,
    "deletable": true,
    "editable": true,
    "scrolled": true
   },
   "outputs": [
    {
     "data": {
      "text/html": [
       "<div>\n",
       "<style scoped>\n",
       "    .dataframe tbody tr th:only-of-type {\n",
       "        vertical-align: middle;\n",
       "    }\n",
       "\n",
       "    .dataframe tbody tr th {\n",
       "        vertical-align: top;\n",
       "    }\n",
       "\n",
       "    .dataframe thead th {\n",
       "        text-align: right;\n",
       "    }\n",
       "</style>\n",
       "<table border=\"1\" class=\"dataframe\">\n",
       "  <thead>\n",
       "    <tr style=\"text-align: right;\">\n",
       "      <th></th>\n",
       "      <th>neg</th>\n",
       "      <th>pos</th>\n",
       "    </tr>\n",
       "  </thead>\n",
       "  <tbody>\n",
       "    <tr>\n",
       "      <th>train</th>\n",
       "      <td>505</td>\n",
       "      <td>476</td>\n",
       "    </tr>\n",
       "    <tr>\n",
       "      <th>test</th>\n",
       "      <td>509</td>\n",
       "      <td>491</td>\n",
       "    </tr>\n",
       "  </tbody>\n",
       "</table>\n",
       "</div>"
      ],
      "text/plain": [
       "       neg  pos\n",
       "train  505  476\n",
       "test   509  491"
      ]
     },
     "execution_count": 10,
     "metadata": {},
     "output_type": "execute_result"
    }
   ],
   "source": [
    "def count_labels(raw_rdd):\n",
    "    return dict(\n",
    "        raw_rdd\n",
    "            .map(lambda pair: (\"pos\" if pair[0] > 5 else \"neg\", 1))\n",
    "            .reduceByKey(lambda l, r: l + r)\n",
    "            .collect()\n",
    "    )\n",
    "\n",
    "pd.DataFrame(\n",
    "    data=[count_labels(train_clean_rdd), count_labels(test_clean_rdd)],\n",
    "    index=[\"train\", \"test\"]\n",
    ")"
   ]
  },
  {
   "cell_type": "markdown",
   "metadata": {
    "deletable": true,
    "editable": true
   },
   "source": [
    "Compute the average number of words per sample.\n",
    "\n",
    "**Note**: From now on we must \"explore\" only the training set!"
   ]
  },
  {
   "cell_type": "code",
   "execution_count": 11,
   "metadata": {
    "collapsed": false,
    "deletable": true,
    "editable": true,
    "scrolled": true
   },
   "outputs": [],
   "source": [
    "length_distribution = dict(\n",
    "    train_clean_rdd\n",
    "        .map(lambda pair: (\n",
    "            len(pair[1].split()),\n",
    "            np.array([0, 1] if pair[0] > 5 else [1, 0])\n",
    "        ))\n",
    "        .reduceByKey(lambda l, r: l+r)\n",
    "        .collect()\n",
    ")"
   ]
  },
  {
   "cell_type": "code",
   "execution_count": 12,
   "metadata": {
    "collapsed": false,
    "deletable": true,
    "editable": true,
    "scrolled": true
   },
   "outputs": [
    {
     "data": {
      "image/png": "[encoded data removed]",
      "text/plain": [
       "<Figure size 1500x400 with 1 Axes>"
      ]
     },
     "metadata": {},
     "output_type": "display_data"
    }
   ],
   "source": [
    "plt.figure(figsize=(15,4))\n",
    "plt.hist(\n",
    "    x=np.array([(l, l) for l in length_distribution.keys()]),\n",
    "    weights=np.array(list(length_distribution.values())),\n",
    "    histtype='bar', stacked=False,\n",
    "    label=[\"neg\", \"pos\"],\n",
    "    bins=20, density=False,\n",
    "    edgecolor='white', linewidth=2\n",
    ")\n",
    "plt.xlabel(\"Review length\")\n",
    "plt.ylabel(\"Number of reviews\")\n",
    "plt.legend(loc=\"upper right\")\n",
    "plt.show()"
   ]
  },
  {
   "cell_type": "markdown",
   "metadata": {
    "deletable": true,
    "editable": true
   },
   "source": [
    "Compute the most seen words in the corpus"
   ]
  },
  {
   "cell_type": "code",
   "execution_count": 13,
   "metadata": {
    "collapsed": false,
    "deletable": true,
    "editable": true,
    "scrolled": true
   },
   "outputs": [],
   "source": [
    "most_frequent_words = [\n",
    "    tpl\n",
    "    for _, tpl in train_clean_rdd\n",
    "        .flatMap(lambda pair: [\n",
    "            (word, np.array([0, 1, 1] if pair[0] > 5 else [1, 0, 1]))\n",
    "            for word in set(pair[1].split())\n",
    "        ])\n",
    "        .reduceByKey(lambda l, r: l+r)\n",
    "        .map(lambda tpl: (tpl[1][-1], tpl))\n",
    "        .top(100)\n",
    "]"
   ]
  },
  {
   "cell_type": "code",
   "execution_count": 14,
   "metadata": {
    "collapsed": false,
    "deletable": true,
    "editable": true,
    "scrolled": true
   },
   "outputs": [
    {
     "data": {
      "image/png": "[encoded data removed]",
      "text/plain": [
       "<Figure size 1500x400 with 1 Axes>"
      ]
     },
     "metadata": {},
     "output_type": "display_data"
    }
   ],
   "source": [
    "how_many = 25\n",
    "\n",
    "pd.DataFrame(\n",
    "    data=[\n",
    "        counts[:2]\n",
    "        for k, counts in most_frequent_words[:how_many]\n",
    "    ],\n",
    "    index=[\n",
    "        k\n",
    "        for k, counts in most_frequent_words[:how_many]\n",
    "    ],\n",
    "    columns=[\"neg\", \"pos\"]\n",
    ").plot.bar(figsize=(15, 4))\n",
    "plt.show()"
   ]
  },
  {
   "cell_type": "markdown",
   "metadata": {
    "deletable": true,
    "editable": true
   },
   "source": [
    "The most frequency words are stop words. We will discard them in our analysis."
   ]
  },
  {
   "cell_type": "code",
   "execution_count": 15,
   "metadata": {
    "collapsed": true,
    "deletable": true,
    "editable": true,
    "scrolled": true
   },
   "outputs": [],
   "source": [
    "stopword_set = set(\n",
    "    k\n",
    "    for k, counts in most_frequent_words[:20]\n",
    ")"
   ]
  },
  {
   "cell_type": "markdown",
   "metadata": {
    "deletable": true,
    "editable": true
   },
   "source": [
    "---\n",
    "\n",
    "## Step 3: Data Preparation\n",
    "\n",
    "Remove the stopwords and Vectorize the remaining words. Lastly, create the LabeledPoints."
   ]
  },
  {
   "cell_type": "code",
   "execution_count": 16,
   "metadata": {
    "collapsed": true,
    "deletable": true,
    "editable": true,
    "scrolled": true
   },
   "outputs": [],
   "source": [
    "tf_transformer = HashingTF(numFeatures=1000)"
   ]
  },
  {
   "cell_type": "code",
   "execution_count": 17,
   "metadata": {
    "collapsed": true,
    "deletable": true,
    "editable": true,
    "scrolled": true
   },
   "outputs": [],
   "source": [
    "def transform(rdd):\n",
    "    return rdd\\\n",
    "        .mapValues(lambda text: [w for w in text.split() if w not in stopword_set])\\\n",
    "        .mapValues(lambda words: tf_transformer.transform(words))\\\n",
    "        .map(lambda pair: LabeledPoint(1 if pair[0] > 5 else 0, pair[1]))\n",
    "\n",
    "train_rdd = transform(train_clean_rdd)\n",
    "test_rdd = transform(test_clean_rdd)"
   ]
  },
  {
   "cell_type": "markdown",
   "metadata": {
    "deletable": true,
    "editable": true
   },
   "source": [
    "---\n",
    "\n",
    "## Step 4: Training and Assessment"
   ]
  },
  {
   "cell_type": "code",
   "execution_count": 18,
   "metadata": {
    "collapsed": true,
    "deletable": true,
    "editable": true,
    "scrolled": true
   },
   "outputs": [],
   "source": [
    "model = LogisticRegressionWithLBFGS.train(train_rdd)"
   ]
  },
  {
   "cell_type": "markdown",
   "metadata": {},
   "source": [
    "Print some reviews and the predicted sentiments."
   ]
  },
  {
   "cell_type": "code",
   "execution_count": 19,
   "metadata": {
    "collapsed": false,
    "scrolled": true
   },
   "outputs": [],
   "source": [
    "def transform(pair):\n",
    "    filename, text = pair\n",
    "    rating, cleaned_text = transform_filename_text_pair(pair)\n",
    "\n",
    "    words = [w for w in cleaned_text.split() if w not in stopword_set]\n",
    "    pred = model.predict(tf_transformer.transform(words))\n",
    "    return (text, pred, rating)\n",
    "\n",
    "model.clearThreshold()\n",
    "data = test_raw_rdd\\\n",
    "    .filter(lambda pair: len(pair[1]) < 500)\\\n",
    "    .map(transform)\\\n",
    "    .takeSample(withReplacement=False, num=10, seed=9)\n",
    "model.setThreshold(0.5)"
   ]
  },
  {
   "cell_type": "code",
   "execution_count": 20,
   "metadata": {
    "collapsed": false,
    "scrolled": false
   },
   "outputs": [
    {
     "name": "stdout",
     "output_type": "stream",
     "text": [
      "Rating 10\tProbability 1.000\n",
      "A wonder. My favorite film. The most important film about relationships ever made. Brilliant writing. Magnificent directing. Image systems and symbolism that leave you thinking about it all days, weeks, years later. Wow. A truly great work of art.\n",
      "\n",
      "Rating 10\tProbability 0.993\n",
      "This is one of the great movies of all time. The story is fascinating and the actors are convincing. Your really identify with the characters. William Wyler proofs with this movie that he is a great director. His craftsmanship is unsurpassed.\n",
      "\n",
      "Rating 10\tProbability 0.000\n",
      "Critters 4: This movie was continued after the 3rd critters movies. This one was released in the same years as critters 3 was released in 1991. Critters 4 takes you in space as they hunt for the humans in a space ship. I doubt if there will be a Critters 5 because the ending for the 4th was quite a good ending, which brought the end to the critters as there was no more left. I give this movie 10 out of 10.\n",
      "\n",
      "Rating 1\tProbability 0.090\n",
      "<br /><br />It sucked.<br /><br />I returned the video after watching half of it. Not funny,<br /><br />just a cheap and desperate attempt to cash in on a very very funny original. junk, forget it, don't waste your time etc etc\n",
      "\n",
      "Rating 10\tProbability 0.000\n",
      "You got to love this movie! I mean, what other Swedish splatter movie could be so evil, bizarre and totally cruel...The whole movie is stuffed with some kind of weird humor, like: The old cencoreguy just blows his head off and the boss just wipes the blood off his glasses and says with a mean voice: - Your fired!!! wouppie!!!\n",
      "\n",
      "Rating 10\tProbability 1.000\n",
      "This movie was made 20 years before my time. Its introduction of John Garfield in the supporting role of Mickey Borden makes it a classic. He slumps onto the screen and your eyes are glued. Garfield was an original and his portrayal of fate's whipping boy is a must see.\n",
      "\n",
      "Rating 10\tProbability 0.993\n",
      "<br /><br />This film is a summary of Visconti's obssessions: the decadence of nobility, death, aesthetic search, homosexuality...All mingled with melancholic mastery. Slow-paced just to make you abler to contemplate all its beauty (which is in the music and the images as well as in the story)this is the type of film we are not allowed to enjoy anymore, brave, deeply personal and intelligent. The genuine fruit of a genius like Visconti.\n",
      "\n",
      "Rating 10\tProbability 0.000\n",
      "How his charter evolved as both man and ape was outstanding. Not to mention the scenery of the film. Christopher lambert was astonishing as lord of Greystoke. Christopher is the soul to this masterpiece. I became so enthrawled with his performance i could feel my heart pounding. The entireity of the movie still moves me to this day. His portrayal of John was Oscar worthy; as he should have been nominated for it.\n",
      "\n",
      "Rating 10\tProbability 1.000\n",
      "National Velvet (1944) The movie that put Taylor on the map. Costarring the then number one box office champ, Mickey Rooney. Taylor plays a girl in love with her horse and when jockey Mickey Rooney is unable to ride in the Grand National race, spunky Liz cuts her hair, pretends to be a boy and races the horse to...well I won't spoil the end for you. It's quality melodrama that MGM was famous for putting out. And it's another early color picture to boot!\n",
      "\n",
      "Rating 10\tProbability 1.000\n",
      "Blondell & Farrell are excellent. Blondell was edible. This was very funny and I laughed often throughout it. Great dialogue and its loaded with wisecracks. I could've watched it for hours. Tremendous fun to watch.\n",
      "\n"
     ]
    }
   ],
   "source": [
    "for text, pred, rating in data:\n",
    "    print(\"Rating {}\\tProbability {:.3f}\\n{}\\n\".format(rating, pred, text))"
   ]
  },
  {
   "cell_type": "markdown",
   "metadata": {},
   "source": [
    "Performance assessment."
   ]
  },
  {
   "cell_type": "code",
   "execution_count": 21,
   "metadata": {
    "collapsed": true,
    "deletable": true,
    "editable": true,
    "scrolled": true
   },
   "outputs": [],
   "source": [
    "def confusion_matrix(labels, predictions):\n",
    "    counts_rdd = predictions.zip(labels).map(lambda k: (k,1)).reduceByKey(lambda l,r: l+r)\n",
    "    counts = dict(((i,j),0) for i in [0,1] for j in [0,1])  # set to 0 all the entries\n",
    "    counts.update( dict(counts_rdd.collect()) )  # update the non-0 entries\n",
    "    confusion_matrix = [\n",
    "        [\n",
    "            counts[(pred,act)]\n",
    "            for act in [0,1]\n",
    "        ] for pred in [0,1]\n",
    "    ]\n",
    "    df_cm = pd.DataFrame(confusion_matrix, index = [\"Pred 0\", \"Pred 1\"], columns = [\"Act 0\", \"Act 1\"])\n",
    "    sns.heatmap(df_cm, annot=True, fmt='', annot_kws={\"size\": 14})\n",
    "    return confusion_matrix"
   ]
  },
  {
   "cell_type": "code",
   "execution_count": 22,
   "metadata": {
    "collapsed": true,
    "deletable": true,
    "editable": true,
    "scrolled": true
   },
   "outputs": [],
   "source": [
    "test_labels = test_rdd.map(lambda lp: lp.label)\n",
    "test_predictions = test_rdd.map(lambda lp: model.predict(lp.features))"
   ]
  },
  {
   "cell_type": "code",
   "execution_count": 23,
   "metadata": {
    "collapsed": false,
    "deletable": true,
    "editable": true,
    "scrolled": true
   },
   "outputs": [
    {
     "data": {
      "text/plain": [
       "[[436, 116], [73, 375]]"
      ]
     },
     "execution_count": 23,
     "metadata": {},
     "output_type": "execute_result"
    },
    {
     "data": {
      "image/png": "[encoded data removed]",
      "text/plain": [
       "<Figure size 600x400 with 2 Axes>"
      ]
     },
     "metadata": {},
     "output_type": "display_data"
    }
   ],
   "source": [
    "confusion_matrix(test_labels, test_predictions)"
   ]
  },
  {
   "cell_type": "code",
   "execution_count": 24,
   "metadata": {
    "collapsed": false,
    "deletable": true,
    "editable": true,
    "scrolled": true
   },
   "outputs": [
    {
     "name": "stdout",
     "output_type": "stream",
     "text": [
      "Accuracy 0.811\n"
     ]
    }
   ],
   "source": [
    "accuracy = test_labels\\\n",
    "    .zip(test_predictions)\\\n",
    "    .map(lambda pair: 1.0 if (pair[0] == pair[1]) else 0.0)\\\n",
    "    .reduce(lambda l, r: l+r) / test_predictions.count()\n",
    "print(\"Accuracy\", accuracy)"
   ]
  },
  {
   "cell_type": "markdown",
   "metadata": {
    "deletable": true,
    "editable": true
   },
   "source": [
    "---\n",
    "\n",
    "## Step 5: Hyperparameters tuning\n",
    "\n",
    "The above model is not tuned. So, take your time to find the best set of hyperparameters!"
   ]
  },
  {
   "cell_type": "markdown",
   "metadata": {
    "deletable": true,
    "editable": true
   },
   "source": [
    "# Close the SparkContext to free the resources"
   ]
  },
  {
   "cell_type": "code",
   "execution_count": 25,
   "metadata": {
    "collapsed": true,
    "deletable": true,
    "editable": true,
    "scrolled": true
   },
   "outputs": [],
   "source": [
    "sc.stop()"
   ]
  }
 ],
 "metadata": {
  "kernelspec": {
   "display_name": "Python 3",
   "language": "python",
   "name": "python3"
  },
  "language_info": {
   "codemirror_mode": {
    "name": "ipython",
    "version": 3
   },
   "file_extension": ".py",
   "mimetype": "text/x-python",
   "name": "python",
   "nbconvert_exporter": "python",
   "pygments_lexer": "ipython3",
   "version": "3.4.3"
  }
 },
 "nbformat": 4,
 "nbformat_minor": 2
}
